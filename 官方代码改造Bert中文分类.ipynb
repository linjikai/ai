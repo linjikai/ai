{
  "nbformat": 4,
  "nbformat_minor": 0,
  "metadata": {
    "colab": {
      "name": "官方代码改造Bert中文分类.ipynb",
      "provenance": [],
      "collapsed_sections": [],
      "authorship_tag": "ABX9TyOOuhp1Ar2khLRlUWPIgsLM",
      "include_colab_link": true
    },
    "kernelspec": {
      "name": "python3",
      "display_name": "Python 3"
    },
    "language_info": {
      "name": "python"
    },
    "accelerator": "GPU"
  },
  "cells": [
    {
      "cell_type": "markdown",
      "metadata": {
        "id": "view-in-github",
        "colab_type": "text"
      },
      "source": [
        "<a href=\"https://colab.research.google.com/github/linjikai/ai/blob/master/%E5%AE%98%E6%96%B9%E4%BB%A3%E7%A0%81%E6%94%B9%E9%80%A0Bert%E4%B8%AD%E6%96%87%E5%88%86%E7%B1%BB.ipynb\" target=\"_parent\"><img src=\"https://colab.research.google.com/assets/colab-badge.svg\" alt=\"Open In Colab\"/></a>"
      ]
    },
    {
      "cell_type": "code",
      "metadata": {
        "colab": {
          "base_uri": "https://localhost:8080/"
        },
        "id": "xZPExcNpn9rj",
        "outputId": "cba4ec1d-08e5-4e59-af92-6c053ca4d070"
      },
      "source": [
        "pip install -q tensorflow-text"
      ],
      "execution_count": 2,
      "outputs": [
        {
          "output_type": "stream",
          "text": [
            "\u001b[K     |████████████████████████████████| 3.4MB 19.0MB/s \n",
            "\u001b[?25h"
          ],
          "name": "stdout"
        }
      ]
    },
    {
      "cell_type": "code",
      "metadata": {
        "colab": {
          "base_uri": "https://localhost:8080/"
        },
        "id": "_Y4pv1YwoAgt",
        "outputId": "1646005e-28d9-41b0-e5f5-1a1e3248e994"
      },
      "source": [
        "pip install -q tf-models-official"
      ],
      "execution_count": 3,
      "outputs": [
        {
          "output_type": "stream",
          "text": [
            "\u001b[K     |████████████████████████████████| 1.1MB 17.3MB/s \n",
            "\u001b[K     |████████████████████████████████| 706kB 51.6MB/s \n",
            "\u001b[K     |████████████████████████████████| 1.2MB 54.8MB/s \n",
            "\u001b[K     |████████████████████████████████| 645kB 47.4MB/s \n",
            "\u001b[K     |████████████████████████████████| 358kB 53.2MB/s \n",
            "\u001b[K     |████████████████████████████████| 102kB 13.4MB/s \n",
            "\u001b[K     |████████████████████████████████| 51kB 8.1MB/s \n",
            "\u001b[K     |████████████████████████████████| 37.6MB 78kB/s \n",
            "\u001b[K     |████████████████████████████████| 174kB 46.4MB/s \n",
            "\u001b[?25h  Building wheel for py-cpuinfo (setup.py) ... \u001b[?25l\u001b[?25hdone\n",
            "  Building wheel for seqeval (setup.py) ... \u001b[?25l\u001b[?25hdone\n"
          ],
          "name": "stdout"
        }
      ]
    },
    {
      "cell_type": "code",
      "metadata": {
        "id": "-qu0PfiUny79"
      },
      "source": [
        "import tensorflow as tf\n",
        "import os\n",
        "import shutil\n",
        "\n",
        "import tensorflow as tf\n",
        "import tensorflow_hub as hub\n",
        "import tensorflow_text as text\n",
        "from official.nlp import optimization  # to create AdamW optimizer\n",
        "\n",
        "import matplotlib.pyplot as plt"
      ],
      "execution_count": 4,
      "outputs": []
    },
    {
      "cell_type": "code",
      "metadata": {
        "id": "JRiUMPiuinwh"
      },
      "source": [
        "tfhub_handle_preprocess = \"https://hub.tensorflow.google.cn/tensorflow/bert_zh_preprocess/3\"\n",
        "tfhub_handle_encoder = \"https://hub.tensorflow.google.cn/tensorflow/bert_zh_L-12_H-768_A-12/4\"\n",
        "bert_preprocess_model = hub.KerasLayer(tfhub_handle_preprocess)\n",
        "bert_model = hub.KerasLayer(tfhub_handle_encoder)"
      ],
      "execution_count": 11,
      "outputs": []
    },
    {
      "cell_type": "code",
      "metadata": {
        "colab": {
          "base_uri": "https://localhost:8080/"
        },
        "id": "yImmQf9So3M-",
        "outputId": "3132a8dd-895b-4875-a0db-e8d4614db382"
      },
      "source": [
        "text_test = ['我真是个天才啊！！']\n",
        "text_preprocessed = bert_preprocess_model(text_test)\n",
        "\n",
        "print(f'Keys       : {list(text_preprocessed.keys())}')\n",
        "print(f'Shape      : {text_preprocessed[\"input_word_ids\"].shape}')\n",
        "print(f'Word Ids   : {text_preprocessed[\"input_word_ids\"][0, :12]}')\n",
        "print(f'Input Mask : {text_preprocessed[\"input_mask\"][0, :12]}')\n",
        "print(f'Type Ids   : {text_preprocessed[\"input_type_ids\"][0, :12]}')"
      ],
      "execution_count": 23,
      "outputs": [
        {
          "output_type": "stream",
          "text": [
            "Keys       : ['input_mask', 'input_type_ids', 'input_word_ids']\n",
            "Shape      : (1, 128)\n",
            "Word Ids   : [ 101 2769 4696 3221  702 1921 2798 1557 8013 8013  102    0]\n",
            "Input Mask : [1 1 1 1 1 1 1 1 1 1 1 0]\n",
            "Type Ids   : [0 0 0 0 0 0 0 0 0 0 0 0]\n"
          ],
          "name": "stdout"
        }
      ]
    },
    {
      "cell_type": "code",
      "metadata": {
        "colab": {
          "base_uri": "https://localhost:8080/"
        },
        "id": "O09XkzlNzpOa",
        "outputId": "3d64e2de-9b98-4465-9e44-1d5e67540046"
      },
      "source": [
        "text_test = ['真是个天才啊！！']\n",
        "text_preprocessed = bert_preprocess_model(text_test)\n",
        "\n",
        "print(f'Keys       : {list(text_preprocessed.keys())}')\n",
        "print(f'Shape      : {text_preprocessed[\"input_word_ids\"].shape}')\n",
        "print(f'Word Ids   : {text_preprocessed[\"input_word_ids\"][0, :12]}')\n",
        "print(f'Input Mask : {text_preprocessed[\"input_mask\"][0, :12]}')\n",
        "print(f'Type Ids   : {text_preprocessed[\"input_type_ids\"][0, :12]}')"
      ],
      "execution_count": 8,
      "outputs": [
        {
          "output_type": "stream",
          "text": [
            "Keys       : ['input_word_ids', 'input_mask', 'input_type_ids']\n",
            "Shape      : (1, 128)\n",
            "Word Ids   : [ 101 4696 3221  702 1921 2798 1557 8013 8013  102    0    0]\n",
            "Input Mask : [1 1 1 1 1 1 1 1 1 1 0 0]\n",
            "Type Ids   : [0 0 0 0 0 0 0 0 0 0 0 0]\n"
          ],
          "name": "stdout"
        }
      ]
    },
    {
      "cell_type": "code",
      "metadata": {
        "colab": {
          "base_uri": "https://localhost:8080/"
        },
        "id": "MsrCJ7ZgpBVl",
        "outputId": "30e4b693-7eb8-41bb-d4e5-19c2148e95c3"
      },
      "source": [
        "bert_results = bert_model(text_preprocessed)\n",
        "print(f'Keys       : {list(bert_results.keys())}')\n",
        "print(f'Pooled Outputs Shape:{bert_results[\"pooled_output\"].shape}')\n",
        "print(f'Pooled Outputs Values:{bert_results[\"pooled_output\"][0, :12]}')\n",
        "print(f'Sequence Outputs Shape:{bert_results[\"sequence_output\"].shape}')\n",
        "print(f'Sequence Outputs Values:{bert_results[\"sequence_output\"][0, :12]}')\n",
        "\n",
        "#print(f'Encoder Outputs Values:{bert_results[\"encoder_outputs\"][:12]}')\n",
        "#print(f'default Outputs Shape:{bert_results[\"default\"].shape}')\n",
        "#print(f'default Outputs Values:{bert_results[\"default\"][0, :12]}')"
      ],
      "execution_count": 15,
      "outputs": [
        {
          "output_type": "stream",
          "text": [
            "Keys       : ['encoder_outputs', 'sequence_output', 'default', 'pooled_output']\n",
            "Pooled Outputs Shape:(1, 768)\n",
            "Pooled Outputs Values:[ 0.9996555   0.99999756  0.9889849   0.98473424  0.958488    0.8418705\n",
            " -0.99844366  0.05288003  0.9766696  -0.9996023   0.99999833  0.9755145 ]\n",
            "Sequence Outputs Shape:(1, 128, 768)\n",
            "Sequence Outputs Values:[[-0.11583152  0.3973515   1.3714011  ...  0.29244888  0.12029047\n",
            "  -0.23318936]\n",
            " [ 0.28376257 -0.2789001   1.0321045  ... -0.9029659  -0.4620713\n",
            "   0.21518253]\n",
            " [-0.3018993  -0.68084145  0.6255052  ... -0.07494262  0.24328591\n",
            "   0.07680962]\n",
            " ...\n",
            " [-0.38820857  0.24663313  0.8718522  ... -0.44158298 -0.01572574\n",
            "  -0.20261802]\n",
            " [ 0.15131113 -0.08801071  0.575948   ... -0.11523086 -0.6917778\n",
            "  -0.42198876]\n",
            " [ 0.03140901 -0.07440143  0.6003993  ... -0.14785767 -0.7634758\n",
            "  -0.40264282]]\n"
          ],
          "name": "stdout"
        }
      ]
    },
    {
      "cell_type": "code",
      "metadata": {
        "id": "CbAYBIDGpdvU"
      },
      "source": [
        "def build_classifier_model():\n",
        "  text_input = tf.keras.layers.Input(shape=(), dtype=tf.string, name='text')\n",
        "  preprocessing_layer = hub.KerasLayer(tfhub_handle_preprocess, name='preprocessing')\n",
        "  encoder_inputs = preprocessing_layer(text_input)\n",
        "  encoder = hub.KerasLayer(tfhub_handle_encoder, trainable=True, name='BERT_encoder')\n",
        "  outputs = encoder(encoder_inputs)\n",
        "  net = outputs['pooled_output']\n",
        "  net = tf.keras.layers.Dropout(0.5)(net)\n",
        "  net = tf.keras.layers.Dense(6, activation='softmax', name='classifier')(net)\n",
        "  return tf.keras.Model(text_input, net)"
      ],
      "execution_count": 15,
      "outputs": []
    },
    {
      "cell_type": "code",
      "metadata": {
        "colab": {
          "base_uri": "https://localhost:8080/"
        },
        "id": "nZLounFPqCn2",
        "outputId": "36256c7f-1e4e-4524-b1c8-7ef3af063b4c"
      },
      "source": [
        "text_test = ['真是个天才啊！！']\n",
        "classifier_model = build_classifier_model()\n",
        "bert_raw_result = classifier_model(tf.constant(text_test))\n",
        "print((bert_raw_result))"
      ],
      "execution_count": 16,
      "outputs": [
        {
          "output_type": "stream",
          "text": [
            "WARNING:tensorflow:9 out of the last 9 calls to <function recreate_function.<locals>.restored_function_body at 0x7ff27a7aa0e0> triggered tf.function retracing. Tracing is expensive and the excessive number of tracings could be due to (1) creating @tf.function repeatedly in a loop, (2) passing tensors with different shapes, (3) passing Python objects instead of tensors. For (1), please define your @tf.function outside of the loop. For (2), @tf.function has experimental_relax_shapes=True option that relaxes argument shapes that can avoid unnecessary retracing. For (3), please refer to https://www.tensorflow.org/guide/function#controlling_retracing and https://www.tensorflow.org/api_docs/python/tf/function for  more details.\n"
          ],
          "name": "stdout"
        },
        {
          "output_type": "stream",
          "text": [
            "WARNING:tensorflow:9 out of the last 9 calls to <function recreate_function.<locals>.restored_function_body at 0x7ff27a7aa0e0> triggered tf.function retracing. Tracing is expensive and the excessive number of tracings could be due to (1) creating @tf.function repeatedly in a loop, (2) passing tensors with different shapes, (3) passing Python objects instead of tensors. For (1), please define your @tf.function outside of the loop. For (2), @tf.function has experimental_relax_shapes=True option that relaxes argument shapes that can avoid unnecessary retracing. For (3), please refer to https://www.tensorflow.org/guide/function#controlling_retracing and https://www.tensorflow.org/api_docs/python/tf/function for  more details.\n"
          ],
          "name": "stderr"
        },
        {
          "output_type": "stream",
          "text": [
            "WARNING:tensorflow:10 out of the last 10 calls to <function recreate_function.<locals>.restored_function_body at 0x7ff27a7aa7a0> triggered tf.function retracing. Tracing is expensive and the excessive number of tracings could be due to (1) creating @tf.function repeatedly in a loop, (2) passing tensors with different shapes, (3) passing Python objects instead of tensors. For (1), please define your @tf.function outside of the loop. For (2), @tf.function has experimental_relax_shapes=True option that relaxes argument shapes that can avoid unnecessary retracing. For (3), please refer to https://www.tensorflow.org/guide/function#controlling_retracing and https://www.tensorflow.org/api_docs/python/tf/function for  more details.\n"
          ],
          "name": "stdout"
        },
        {
          "output_type": "stream",
          "text": [
            "WARNING:tensorflow:10 out of the last 10 calls to <function recreate_function.<locals>.restored_function_body at 0x7ff27a7aa7a0> triggered tf.function retracing. Tracing is expensive and the excessive number of tracings could be due to (1) creating @tf.function repeatedly in a loop, (2) passing tensors with different shapes, (3) passing Python objects instead of tensors. For (1), please define your @tf.function outside of the loop. For (2), @tf.function has experimental_relax_shapes=True option that relaxes argument shapes that can avoid unnecessary retracing. For (3), please refer to https://www.tensorflow.org/guide/function#controlling_retracing and https://www.tensorflow.org/api_docs/python/tf/function for  more details.\n"
          ],
          "name": "stderr"
        },
        {
          "output_type": "stream",
          "text": [
            "WARNING:tensorflow:11 out of the last 11 calls to <function recreate_function.<locals>.restored_function_body at 0x7ff2c52ef050> triggered tf.function retracing. Tracing is expensive and the excessive number of tracings could be due to (1) creating @tf.function repeatedly in a loop, (2) passing tensors with different shapes, (3) passing Python objects instead of tensors. For (1), please define your @tf.function outside of the loop. For (2), @tf.function has experimental_relax_shapes=True option that relaxes argument shapes that can avoid unnecessary retracing. For (3), please refer to https://www.tensorflow.org/guide/function#controlling_retracing and https://www.tensorflow.org/api_docs/python/tf/function for  more details.\n"
          ],
          "name": "stdout"
        },
        {
          "output_type": "stream",
          "text": [
            "WARNING:tensorflow:11 out of the last 11 calls to <function recreate_function.<locals>.restored_function_body at 0x7ff2c52ef050> triggered tf.function retracing. Tracing is expensive and the excessive number of tracings could be due to (1) creating @tf.function repeatedly in a loop, (2) passing tensors with different shapes, (3) passing Python objects instead of tensors. For (1), please define your @tf.function outside of the loop. For (2), @tf.function has experimental_relax_shapes=True option that relaxes argument shapes that can avoid unnecessary retracing. For (3), please refer to https://www.tensorflow.org/guide/function#controlling_retracing and https://www.tensorflow.org/api_docs/python/tf/function for  more details.\n"
          ],
          "name": "stderr"
        },
        {
          "output_type": "stream",
          "text": [
            "WARNING:tensorflow:11 out of the last 11 calls to <function recreate_function.<locals>.restored_function_body at 0x7ff27a439d40> triggered tf.function retracing. Tracing is expensive and the excessive number of tracings could be due to (1) creating @tf.function repeatedly in a loop, (2) passing tensors with different shapes, (3) passing Python objects instead of tensors. For (1), please define your @tf.function outside of the loop. For (2), @tf.function has experimental_relax_shapes=True option that relaxes argument shapes that can avoid unnecessary retracing. For (3), please refer to https://www.tensorflow.org/guide/function#controlling_retracing and https://www.tensorflow.org/api_docs/python/tf/function for  more details.\n"
          ],
          "name": "stdout"
        },
        {
          "output_type": "stream",
          "text": [
            "WARNING:tensorflow:11 out of the last 11 calls to <function recreate_function.<locals>.restored_function_body at 0x7ff27a439d40> triggered tf.function retracing. Tracing is expensive and the excessive number of tracings could be due to (1) creating @tf.function repeatedly in a loop, (2) passing tensors with different shapes, (3) passing Python objects instead of tensors. For (1), please define your @tf.function outside of the loop. For (2), @tf.function has experimental_relax_shapes=True option that relaxes argument shapes that can avoid unnecessary retracing. For (3), please refer to https://www.tensorflow.org/guide/function#controlling_retracing and https://www.tensorflow.org/api_docs/python/tf/function for  more details.\n"
          ],
          "name": "stderr"
        },
        {
          "output_type": "stream",
          "text": [
            "WARNING:tensorflow:11 out of the last 11 calls to <function recreate_function.<locals>.restored_function_body at 0x7ff22c575ef0> triggered tf.function retracing. Tracing is expensive and the excessive number of tracings could be due to (1) creating @tf.function repeatedly in a loop, (2) passing tensors with different shapes, (3) passing Python objects instead of tensors. For (1), please define your @tf.function outside of the loop. For (2), @tf.function has experimental_relax_shapes=True option that relaxes argument shapes that can avoid unnecessary retracing. For (3), please refer to https://www.tensorflow.org/guide/function#controlling_retracing and https://www.tensorflow.org/api_docs/python/tf/function for  more details.\n"
          ],
          "name": "stdout"
        },
        {
          "output_type": "stream",
          "text": [
            "WARNING:tensorflow:11 out of the last 11 calls to <function recreate_function.<locals>.restored_function_body at 0x7ff22c575ef0> triggered tf.function retracing. Tracing is expensive and the excessive number of tracings could be due to (1) creating @tf.function repeatedly in a loop, (2) passing tensors with different shapes, (3) passing Python objects instead of tensors. For (1), please define your @tf.function outside of the loop. For (2), @tf.function has experimental_relax_shapes=True option that relaxes argument shapes that can avoid unnecessary retracing. For (3), please refer to https://www.tensorflow.org/guide/function#controlling_retracing and https://www.tensorflow.org/api_docs/python/tf/function for  more details.\n"
          ],
          "name": "stderr"
        },
        {
          "output_type": "stream",
          "text": [
            "tf.Tensor([[0.07398956 0.01607683 0.64392304 0.09848651 0.14955147 0.0179726 ]], shape=(1, 6), dtype=float32)\n"
          ],
          "name": "stdout"
        }
      ]
    },
    {
      "cell_type": "code",
      "metadata": {
        "colab": {
          "base_uri": "https://localhost:8080/",
          "height": 466
        },
        "id": "Mg5G4m6rpP9a",
        "outputId": "b3da3b89-23c7-43a5-9652-cf2a903956a0"
      },
      "source": [
        "tf.keras.utils.plot_model(classifier_model)"
      ],
      "execution_count": 17,
      "outputs": [
        {
          "output_type": "execute_result",
          "data": {
            "image/png": "[encoded data removed]",
            "text/plain": [
              "<IPython.core.display.Image object>"
            ]
          },
          "metadata": {
            "tags": []
          },
          "execution_count": 17
        }
      ]
    },
    {
      "cell_type": "code",
      "metadata": {
        "colab": {
          "base_uri": "https://localhost:8080/"
        },
        "id": "eNbU7anQpWr4",
        "outputId": "ca58a568-8c7c-406b-ead3-85a8976ccb3e"
      },
      "source": [
        "loss = tf.keras.losses.SparseCategoricalCrossentropy()\n",
        "metrics = tf.metrics.SparseCategoricalAccuracy()\n",
        "epochs = 3\n",
        "steps_per_epoch = tf.data.experimental.cardinality(train_ds).numpy()\n",
        "num_train_steps = steps_per_epoch * epochs\n",
        "print(num_train_steps)\n",
        "num_warmup_steps = int(0.1*num_train_steps)\n",
        "\n",
        "init_lr = 3e-5\n",
        "optimizer = optimization.create_optimizer(init_lr=init_lr,\n",
        "                                          num_train_steps=num_train_steps,\n",
        "                                          num_warmup_steps=num_warmup_steps,\n",
        "                                          optimizer_type='adamw')\n",
        "classifier_model.compile(optimizer=optimizer,\n",
        "                         loss=loss,\n",
        "                         metrics=metrics)"
      ],
      "execution_count": 23,
      "outputs": [
        {
          "output_type": "stream",
          "text": [
            "24\n"
          ],
          "name": "stdout"
        }
      ]
    },
    {
      "cell_type": "code",
      "metadata": {
        "colab": {
          "base_uri": "https://localhost:8080/"
        },
        "id": "S2pAXhkgp0rv",
        "outputId": "631465c4-6a15-4136-bbb1-7862bcd20fa6"
      },
      "source": [
        "history = classifier_model.fit(x=train_ds,\n",
        "                               validation_data=val_ds,\n",
        "                               epochs=epochs)"
      ],
      "execution_count": 24,
      "outputs": [
        {
          "output_type": "stream",
          "text": [
            "Epoch 1/3\n",
            "8/8 [==============================] - 15s 977ms/step - loss: 0.0399 - sparse_categorical_accuracy: 0.9921 - val_loss: 0.2445 - val_sparse_categorical_accuracy: 0.9500\n",
            "Epoch 2/3\n",
            "8/8 [==============================] - 7s 892ms/step - loss: 0.0405 - sparse_categorical_accuracy: 0.9907 - val_loss: 0.3039 - val_sparse_categorical_accuracy: 0.9167\n",
            "Epoch 3/3\n",
            "8/8 [==============================] - 7s 891ms/step - loss: 0.0395 - sparse_categorical_accuracy: 0.9891 - val_loss: 0.2644 - val_sparse_categorical_accuracy: 0.9500\n"
          ],
          "name": "stdout"
        }
      ]
    },
    {
      "cell_type": "code",
      "metadata": {
        "colab": {
          "base_uri": "https://localhost:8080/"
        },
        "id": "Hfbewai4rcdS",
        "outputId": "9edb881b-d4eb-4b42-9125-1ee0a778b167"
      },
      "source": [
        "import numpy as np\n",
        "\n",
        "def print_my_examples(inputs, results):\n",
        "  result_for_printing = \\\n",
        "    [f'input: {inputs[i]:<30} : class: {class_names[np.argmax(results[i])] }'\n",
        "                         for i in range(len(inputs))]\n",
        "  print(*result_for_printing, sep='\\n')\n",
        "  print()\n",
        "\n",
        "examples = ['德国米技（MIJI）蒸汽喷淋式煮茶壶 全自动保温泡茶壶HK-K018',\n",
        "            '公牛插座收纳盒装办公接线板家用创意电源',\n",
        "            '生活元素烧水壶办公室家用多功能小型烧水壶保温一体煮茶器煮茶壶',\n",
        "            '信安智囊老人防摔防跌倒术后保护重复使用智能气囊马甲服神器送礼',\n",
        "            '七度空间卫生巾优雅系列日夜超值组合',\n",
        "            ' 【贝拉家】贝拉爸爸自己家工厂生产的科技布狗窝']\n",
        "example_result = classifier_model(tf.constant(examples))\n",
        "\n",
        "print_my_examples(examples,example_result)\n",
        "#print(example_result)\n",
        "#print(np.argmax(example_result.numpy()))\n",
        "#print(class_names[np.argmax(example_result.numpy())])"
      ],
      "execution_count": 35,
      "outputs": [
        {
          "output_type": "stream",
          "text": [
            "WARNING:tensorflow:9 out of the last 11 calls to <function recreate_function.<locals>.restored_function_body at 0x7ff27a439d40> triggered tf.function retracing. Tracing is expensive and the excessive number of tracings could be due to (1) creating @tf.function repeatedly in a loop, (2) passing tensors with different shapes, (3) passing Python objects instead of tensors. For (1), please define your @tf.function outside of the loop. For (2), @tf.function has experimental_relax_shapes=True option that relaxes argument shapes that can avoid unnecessary retracing. For (3), please refer to https://www.tensorflow.org/guide/function#controlling_retracing and https://www.tensorflow.org/api_docs/python/tf/function for  more details.\n"
          ],
          "name": "stdout"
        },
        {
          "output_type": "stream",
          "text": [
            "WARNING:tensorflow:9 out of the last 11 calls to <function recreate_function.<locals>.restored_function_body at 0x7ff27a439d40> triggered tf.function retracing. Tracing is expensive and the excessive number of tracings could be due to (1) creating @tf.function repeatedly in a loop, (2) passing tensors with different shapes, (3) passing Python objects instead of tensors. For (1), please define your @tf.function outside of the loop. For (2), @tf.function has experimental_relax_shapes=True option that relaxes argument shapes that can avoid unnecessary retracing. For (3), please refer to https://www.tensorflow.org/guide/function#controlling_retracing and https://www.tensorflow.org/api_docs/python/tf/function for  more details.\n"
          ],
          "name": "stderr"
        },
        {
          "output_type": "stream",
          "text": [
            "WARNING:tensorflow:9 out of the last 11 calls to <function recreate_function.<locals>.restored_function_body at 0x7ff22c575ef0> triggered tf.function retracing. Tracing is expensive and the excessive number of tracings could be due to (1) creating @tf.function repeatedly in a loop, (2) passing tensors with different shapes, (3) passing Python objects instead of tensors. For (1), please define your @tf.function outside of the loop. For (2), @tf.function has experimental_relax_shapes=True option that relaxes argument shapes that can avoid unnecessary retracing. For (3), please refer to https://www.tensorflow.org/guide/function#controlling_retracing and https://www.tensorflow.org/api_docs/python/tf/function for  more details.\n"
          ],
          "name": "stdout"
        },
        {
          "output_type": "stream",
          "text": [
            "WARNING:tensorflow:9 out of the last 11 calls to <function recreate_function.<locals>.restored_function_body at 0x7ff22c575ef0> triggered tf.function retracing. Tracing is expensive and the excessive number of tracings could be due to (1) creating @tf.function repeatedly in a loop, (2) passing tensors with different shapes, (3) passing Python objects instead of tensors. For (1), please define your @tf.function outside of the loop. For (2), @tf.function has experimental_relax_shapes=True option that relaxes argument shapes that can avoid unnecessary retracing. For (3), please refer to https://www.tensorflow.org/guide/function#controlling_retracing and https://www.tensorflow.org/api_docs/python/tf/function for  more details.\n"
          ],
          "name": "stderr"
        },
        {
          "output_type": "stream",
          "text": [
            "input: 德国米技（MIJI）蒸汽喷淋式煮茶壶 全自动保温泡茶壶HK-K018 : class: CYJ\n",
            "input: 公牛插座收纳盒装办公接线板家用创意电源            : class: SNQJ\n",
            "input: 生活元素烧水壶办公室家用多功能小型烧水壶保温一体煮茶器煮茶壶 : class: CFPR\n",
            "input: 信安智囊老人防摔防跌倒术后保护重复使用智能气囊马甲服神器送礼 : class: JJLP\n",
            "input: 七度空间卫生巾优雅系列日夜超值组合              : class: ZPQJ\n",
            "input:  【贝拉家】贝拉爸爸自己家工厂生产的科技布狗窝        : class: CWYP\n",
            "\n"
          ],
          "name": "stdout"
        }
      ]
    },
    {
      "cell_type": "code",
      "metadata": {
        "id": "zLConvfsUp17"
      },
      "source": [
        "import zipfile\n",
        "from pathlib import Path\n",
        "zFile = zipfile.ZipFile(\"/content/家居宠物.zip\",\"r\")\n",
        "for fileM in zFile.namelist(): \n",
        "        zFile.extract(fileM, \"/content/家居宠物\")\n",
        "zFile.close();"
      ],
      "execution_count": 1,
      "outputs": []
    },
    {
      "cell_type": "code",
      "metadata": {
        "colab": {
          "base_uri": "https://localhost:8080/"
        },
        "id": "OTbHVYYekRhC",
        "outputId": "b3b4a6f6-a80a-44e5-bde6-142e078f564c"
      },
      "source": [
        "AUTOTUNE = tf.data.AUTOTUNE\n",
        "batch_size = 32\n",
        "seed = 42\n",
        "\n",
        "raw_train_ds = tf.keras.preprocessing.text_dataset_from_directory(\n",
        "    '家居宠物/train',\n",
        "    batch_size=batch_size,\n",
        "    validation_split=0.2,\n",
        "    subset='training',\n",
        "    seed=seed)\n",
        "\n",
        "class_names = raw_train_ds.class_names\n",
        "print(class_names)\n",
        "train_ds = raw_train_ds.cache().prefetch(buffer_size=AUTOTUNE)\n",
        "val_ds = tf.keras.preprocessing.text_dataset_from_directory(\n",
        "    '家居宠物/train',\n",
        "    batch_size=batch_size,\n",
        "    validation_split=0.2,\n",
        "    subset='validation',\n",
        "    seed=seed)\n",
        "\n",
        "val_ds = val_ds.cache().prefetch(buffer_size=AUTOTUNE)"
      ],
      "execution_count": 9,
      "outputs": [
        {
          "output_type": "stream",
          "text": [
            "Found 300 files belonging to 6 classes.\n",
            "Using 240 files for training.\n",
            "['CFPR', 'CWYP', 'CYJ', 'JJLP', 'SNQJ', 'ZPQJ']\n",
            "Found 300 files belonging to 6 classes.\n",
            "Using 60 files for validation.\n"
          ],
          "name": "stdout"
        }
      ]
    },
    {
      "cell_type": "code",
      "metadata": {
        "colab": {
          "base_uri": "https://localhost:8080/"
        },
        "id": "F6hjOSbwnTze",
        "outputId": "dd1e2879-9472-4200-82c4-52798a0e4db4"
      },
      "source": [
        "for text_batch, label_batch in train_ds.take(1):\n",
        "  print(text_batch)\n",
        "  for i in range(3):\n",
        "    print(f'Review: {text_batch.numpy()[i]}')\n",
        "    label = label_batch.numpy()[i]\n",
        "    print(f'Label : {label} ({class_names[label]})')"
      ],
      "execution_count": 10,
      "outputs": [
        {
          "output_type": "stream",
          "text": [
            "tf.Tensor(\n",
            "[b'\\xe7\\xb2\\x98\\xe6\\xaf\\x9b\\xe5\\x99\\xa8\\xe7\\xbb\\x84\\xe5\\x90\\x88\\xe3\\x80\\x902\\xe4\\xb8\\xaa\\xe6\\x8a\\x8a\\xe6\\x89\\x8b+5\\xe4\\xb8\\xaa\\xe7\\xb2\\x98\\xe6\\xaf\\x9b\\xe5\\x8d\\xb7\\xe3\\x80\\x91'\n",
            " b'\\xe3\\x80\\x90\\xe6\\xad\\xa3\\xe5\\xae\\x97\\xe7\\xba\\xa2\\xe9\\x93\\x81\\xe6\\x9c\\xa8\\xe3\\x80\\x9128\\xc3\\x974cm-\\xe6\\x8e\\xa8\\xe8\\x8d\\x90\\xe9\\xbb\\x84\\xe9\\x87\\x91\\xe5\\x8d\\x95\\xe8\\xba\\xab\\xe5\\xae\\xb6\\xe5\\xba\\xad\\xe4\\xbd\\xbf\\xe7\\x94\\xa8'\n",
            " b'Q\\xe8\\xa2\\x8b\\xe8\\x8c\\xb6\\xe5\\x8f\\xb6\\xe7\\xbd\\x90'\n",
            " b'\\xe9\\xbd\\x90\\xe5\\xa6\\x99\\xe4\\xb8\\xbb\\xe5\\xa6\\x87 \\xe5\\xae\\xb6\\xe7\\x94\\xa8\\xe6\\xb3\\x95\\xe6\\x96\\x87\\xe7\\xa2\\x97'\n",
            " b'\\xe7\\xb4\\xa2\\xe5\\xac\\x89\\xe7\\xbb\\xb5\\xe6\\x9f\\x94\\xe6\\xb4\\x81\\xe9\\x9d\\xa2\\xe5\\xb7\\xbe'\n",
            " b'\\xe7\\x88\\xb1\\xe4\\xb8\\xbd\\xe6\\x80\\x9d\\xe5\\xae\\xa0\\xe7\\x89\\xa9\\xe7\\x8b\\x97\\xe7\\xb2\\xae\\xe8\\x87\\xaa\\xe5\\x8a\\xa8\\xe5\\x96\\x82\\xe9\\xa3\\x9f\\xe5\\x99\\xa8\\xe7\\xbb\\x99\\xe9\\xa3\\x9f\\xe5\\x99\\xa8\\xe5\\x96\\x82\\xe6\\xb0\\xb4\\xe5\\x99\\xa8\\xe7\\x88\\xb1\\xe4\\xb8\\xbd\\xe4\\xb8\\x9d\\xe7\\x8b\\x97\\xe7\\x8b\\x97\\xe7\\x8c\\xab\\xe5\\x92\\xaa\\xe6\\x8a\\x95\\xe9\\xa3\\x9f\\xe9\\xa5\\xae\\xe6\\xb0\\xb4\\xe5\\x99\\xa8'\n",
            " b'\\xe3\\x80\\x90\\xe7\\xb2\\x89\\xe4\\xb8\\x9d\\xe4\\xb8\\x93\\xe5\\xb1\\x9e\\xe7\\xa6\\x8f\\xe5\\x88\\xa9\\xe3\\x80\\x91\\xe5\\xa5\\xbd\\xe5\\xa4\\xaa\\xe5\\xa4\\xaa\\xe6\\xb4\\x97\\xe8\\xa1\\xa3\\xe5\\x87\\x9d\\xe7\\x8f\\xa0 \\xe6\\x8b\\x8d\\xe4\\xb8\\x80\\xe5\\x8f\\x91\\xe4\\xb8\\x83'\n",
            " b'\\xe3\\x80\\x90\\xe9\\x91\\xab\\xe6\\x81\\x8b\\xe7\\x99\\xbe\\xe8\\xb4\\xa7\\xe3\\x80\\x91\\xe8\\x8f\\xb1\\xe5\\xbd\\xa2\\xe7\\xa0\\x82\\xe9\\x94\\x85\\xe5\\x8f\\xaf\\xe6\\x98\\x8e\\xe7\\x81\\xab\\xe5\\xb9\\xb2\\xe7\\x83\\xa7'\n",
            " b'D\\xe5\\xb0\\x8f\\xe5\\x8d\\x97\\xe7\\x93\\x9c\\xe5\\x85\\xbb\\xe7\\x94\\x9f\\xe7\\x94\\xb5\\xe7\\x82\\x96\\xe6\\x9d\\xaf\\xe5\\x8a\\x9e\\xe5\\x85\\xac\\xe5\\xae\\xa4\\xe8\\xbf\\xb7\\xe4\\xbd\\xa0\\xe7\\x85\\xae\\xe8\\x8c\\xb6\\xe7\\x85\\xae\\xe7\\xb2\\xa5\\xe7\\xa5\\x9e\\xe5\\x99\\xa8\\xe5\\xae\\xbf\\xe8\\x88\\x8d\\xe5\\xad\\xa6\\xe7\\x94\\x9f\\xe7\\x94\\xb5\\xe7\\x83\\xad\\xe7\\x83\\xa7\\xe6\\xb0\\xb4\\xe6\\x9d\\xaf1\\xe4\\xba\\xba'\n",
            " b'\\xe3\\x80\\x90\\xe7\\xb2\\x89\\xe4\\xb8\\x9d\\xe4\\xb8\\x93\\xe4\\xba\\xab\\xe3\\x80\\x91\\xe9\\xa3\\x9e\\xe6\\x9c\\xba\\xe5\\x82\\xa8\\xe8\\x93\\x84\\xe7\\xbd\\x90'\n",
            " b'\\xe3\\x80\\x90\\xe9\\x97\\xaa\\xe8\\xb4\\xad\\xe5\\x95\\x86\\xe5\\x93\\x81\\xe3\\x80\\x91\\xe8\\xb7\\xaf\\xe9\\x81\\xa5\\xe7\\x9f\\xa5\\xe9\\xa9\\xac\\xe5\\x8a\\x9b\\xef\\xbc\\x8c\\xe6\\x97\\xa5\\xe4\\xb9\\x85\\xe8\\xa7\\x81\\xe4\\xba\\xba\\xe5\\xbf\\x83'\n",
            " b'\\xe5\\x8d\\x83\\xe7\\xa6\\xbe \\xe9\\x9b\\xb6\\xe6\\xb7\\xbb\\xe5\\x8a\\xa0180\\xe5\\xa4\\xa9\\xe7\\x94\\x9f\\xe6\\x8a\\xbd1L-2\\xe7\\x93\\xb6'\n",
            " b'\\xe9\\xb8\\xbf\\xe8\\xbf\\x90\\xe9\\xab\\x98\\xe7\\x85\\xa7\\xe5\\xbc\\xa5\\xe5\\x8b\\x92\\xe6\\xb5\\x81\\xe6\\xb0\\xb4\\xe9\\xb1\\xbc\\xe7\\xbc\\xb8'\n",
            " b'\\xe9\\x87\\x91\\xe6\\xaf\\x9b\\xe7\\x8b\\x97\\xe7\\xb2\\xae20\\xe6\\x96\\xa4\\xe8\\xa3\\x85\\xe5\\xa4\\xa7\\xe5\\x9e\\x8b\\xe7\\x8a\\xac\\xe6\\x8b\\x89\\xe5\\xb8\\x83\\xe6\\x8b\\x89\\xe5\\xa4\\x9a\\xe4\\xb8\\x93\\xe7\\x94\\xa8\\xe6\\x88\\x90\\xe7\\x8a\\xac\\xe5\\xb9\\xbc\\xe7\\x8a\\xac\\xe9\\x80\\x9a\\xe7\\x94\\xa8\\xe5\\x9e\\x8b10Kg\\xe7\\x89\\x9b\\xe8\\x82\\x89\\xe5\\x91\\xb340'\n",
            " b'\\xe5\\x8c\\x97\\xe6\\xac\\xa7\\xe7\\xae\\x80\\xe7\\xba\\xa6\\xe5\\x93\\x91\\xe5\\x85\\x89\\xe5\\xa4\\x8d\\xe5\\x8f\\xa4\\xe9\\x9b\\x85\\xe7\\xba\\xb9\\xe5\\x8f\\x8c\\xe8\\x80\\xb3\\xe7\\xa2\\x97'\n",
            " b'\\xe7\\x94\\x9f\\xe6\\xb4\\xbb\\xe5\\x85\\x83\\xe7\\xb4\\xa0\\xe7\\x83\\xa7\\xe6\\xb0\\xb4\\xe5\\xa3\\xb6\\xe5\\x8a\\x9e\\xe5\\x85\\xac\\xe5\\xae\\xa4\\xe5\\xae\\xb6\\xe7\\x94\\xa8\\xe5\\xa4\\x9a\\xe5\\x8a\\x9f\\xe8\\x83\\xbd\\xe5\\xb0\\x8f\\xe5\\x9e\\x8b\\xe7\\x83\\xa7\\xe6\\xb0\\xb4\\xe5\\xa3\\xb6\\xe4\\xbf\\x9d\\xe6\\xb8\\xa9\\xe4\\xb8\\x80\\xe4\\xbd\\x93\\xe7\\x85\\xae\\xe8\\x8c\\xb6\\xe5\\x99\\xa8\\xe7\\x85\\xae\\xe8\\x8c\\xb6\\xe5\\xa3\\xb6'\n",
            " b'\\xe6\\x82\\x9f\\xe7\\x84\\xb6\\xe5\\xa0\\x82\\xe6\\xbb\\xa1\\xe5\\xb7\\xa5\\xe7\\x9f\\xbe\\xe7\\xba\\xa2\\xe6\\x8f\\x8f\\xe9\\x87\\x91\\xe4\\xb9\\x9d\\xe5\\x87\\xa4\\xe9\\xb8\\xa1\\xe5\\xbf\\x83\\xe6\\x9d\\xaf'\n",
            " b'\\xe5\\x8f\\xaf\\xe6\\x8b\\x89\\xe4\\xbc\\xb8\\xe6\\xb9\\xbf\\xe6\\x95\\xb7\\xe6\\xa3\\x89'\n",
            " b'\\xef\\xbc\\x88\\xe7\\xb2\\x89\\xe4\\xb8\\x9d\\xe6\\xb5\\xae\\xe5\\x8a\\x9b\\xef\\xbc\\x89\\xe5\\xa4\\x9a\\xe5\\x8a\\x9f\\xe8\\x83\\xbd\\xe5\\x89\\xaa\\xe5\\x85\\xa8\\xe4\\xb8\\x8d\\xe9\\x94\\x88\\xe9\\x92\\xa2\\xe5\\x89\\xaa\\xe5\\x88\\x80'\n",
            " b'\\xe6\\x96\\xb0\\xe7\\x96\\x86\\xe5\\x8c\\x85\\xe4\\xb8\\xaa\\xe9\\x82\\xae\\xe7\\xac\\x94\\xe8\\xae\\xb0\\xe6\\x9c\\xac\\xe7\\x94\\xb5\\xe8\\x84\\x91\\xe6\\xa1\\x8c\\xe5\\xba\\x8a\\xe4\\xb8\\x8a\\xe7\\x94\\xa8\\xe5\\x8f\\xaf\\xe6\\x8a\\x98\\xe5\\x8f\\xa0\\xe6\\x87\\x92\\xe4\\xba\\xba\\xe5\\xad\\xa6\\xe7\\x94\\x9f\\xe5\\xae\\xbf\\xe8\\x88\\x8d\\xe5\\xad\\xa6\\xe4\\xb9\\xa0\\xe4\\xb9\\xa6\\xe6\\xa1\\x8c\\xe5\\xb0\\x8f\\xe6\\xa1\\x8c\\xe5\\xad\\x90'\n",
            " b'\\xe3\\x80\\x90\\xe6\\xaf\\x9b\\xe5\\xad\\xa9\\xe5\\xad\\x90\\xe4\\xbc\\x98\\xe9\\x80\\x89\\xe3\\x80\\x91\\xe7\\x89\\x9b\\xe6\\xb0\\x94\\xe5\\x86\\xb2\\xe5\\xa4\\xa9\\xe7\\x8f\\x8a\\xe7\\x91\\x9a\\xe7\\xbb\\x92\\xe5\\x8d\\xab\\xe8\\xa1\\xa3\\xe7\\x8c\\xab\\xe5\\x92\\xaa\\xe5\\xae\\xa0\\xe7\\x89\\xa9\\xe5\\xb0\\x8f\\xe5\\x9e\\x8b\\xe7\\x8a\\xac\\xe5\\x8a\\xa0\\xe5\\x8e\\x9a\\xe4\\xb8\\xa4\\xe8\\x84\\x9a\\xe8\\xa1\\xa3\\xe6\\x9c\\x8d'\n",
            " b'\\xe3\\x80\\x90\\xe6\\x9a\\x96\\xe6\\x9a\\x96\\xe3\\x80\\x91\\xe5\\xae\\xb6\\xe7\\x94\\xa8\\xe9\\x99\\xb6\\xe7\\x93\\xb7\\xe5\\xb0\\x8f\\xe7\\xa0\\x82\\xe9\\x94\\x85\\xe8\\x80\\x90\\xe9\\xab\\x98\\xe6\\xb8\\xa9\\xe6\\x98\\x8e\\xe7\\x81\\xab\\xe7\\x85\\xb2\\xe6\\xb1\\xa4\\xe9\\x94\\x85'\n",
            " b'\\xe5\\x9e\\x83\\xe5\\x9c\\xbe\\xe8\\xa2\\x8b\\xe6\\x94\\xb6\\xe7\\xba\\xb3\\xe8\\xa2\\x8b\\xe5\\xbd\\xa9\\xe8\\x89\\xb2\\xe5\\x8a\\xa0\\xe5\\x8e\\x9a\\xe5\\xae\\xb6\\xe7\\x94\\xa8\\xe7\\x89\\xa2\\xe5\\x9b\\xba\\xe4\\xb8\\x80\\xe6\\xac\\xa1\\xe6\\x80\\xa7\\xe7\\x82\\xb9\\xe6\\x96\\xad\\xe5\\xbc\\x8f\\xe6\\x89\\x8b\\xe6\\x8f\\x90\\xe5\\xbc\\x8f\\xe5\\xa1\\x91\\xe6\\x96\\x99\\xe8\\xa2\\x8b45*50cm'\n",
            " b'\\xe3\\x80\\x90\\xe9\\x97\\xaa\\xe8\\xb4\\xad\\xe5\\x95\\x86\\xe5\\x93\\x81\\xe3\\x80\\x91\\xe6\\x84\\x9b\\xe6\\x96\\xb0\\xe8\\xa6\\xba\\xe7\\xbe\\x85\\xe2\\x80\\xa2\\xe6\\x99\\xaf\\xe6\\xb4\\xaa\\xe9\\x9d\\x92\\xe8\\x8a\\xb1\\xe7\\x93\\xb7'\n",
            " b'\\xe5\\x84\\xbf\\xe7\\xab\\xa5\\xe4\\xba\\xb2\\xe5\\xad\\x90\\xe5\\xaf\\xb9\\xe8\\x81\\x94 \\xe4\\xb8\\x8d\\xe7\\xbb\\x87\\xe5\\xb8\\x83\\xe6\\x98\\xa5\\xe8\\x8a\\x82\\xe6\\x89\\x8b\\xe5\\xb7\\xa5diy\\xe5\\x88\\xb6\\xe4\\xbd\\x9c\\xe6\\x9d\\x90\\xe6\\x96\\x99\\xe5\\x8c\\x85\\xef\\xbc\\x88\\xe5\\x90\\xab\\xe8\\x83\\xb6\\xe6\\xb0\\xb4\\xe3\\x80\\x81\\xe6\\x97\\xa0\\xe7\\x97\\x95\\xe6\\x8c\\x82\\xe9\\x92\\xa9\\xef\\xbc\\x89'\n",
            " b'Apixintl \\xe8\\x92\\xb8\\xe6\\xb1\\xbd\\xe6\\x8b\\x96\\xe6\\x8a\\x8a\\xe5\\xae\\xb6\\xe7\\x94\\xa8\\xe7\\x94\\xb5\\xe5\\x8a\\xa8\\xe9\\xab\\x98\\xe6\\xb8\\xa9\\xe8\\x92\\xb8\\xe6\\xb0\\x94\\xe6\\xb8\\x85\\xe6\\xb4\\x81\\xe6\\x9c\\xba\\xe9\\x9d\\x9e\\xe6\\x97\\xa0\\xe7\\xba\\xbf\\xe6\\x8b\\x96\\xe5\\x9c\\xb0\\xe6\\x9c\\xba\\xe7\\xa5\\x9e\\xe5\\x99\\xa8'\n",
            " b'\\xe5\\x85\\xb0\\xe5\\xba\\xb7\\xe4\\xbf\\x9d\\xe6\\xb0\\xb4\\xe8\\xb4\\xa8\\xe6\\xa3\\x80\\xe6\\xb5\\x8b\\xe7\\x9b\\x92\\xe5\\x88\\x86\\xe6\\x9e\\x90\\xe4\\xbd\\x99\\xe6\\xb0\\xaf\\xe8\\xaf\\x95\\xe5\\x89\\x82\\xe6\\xb0\\xa8\\xe6\\xb0\\xae\\xe6\\xba\\xb6\\xe8\\xa7\\xa3\\xe6\\xb0\\xa7\\xe4\\xba\\x9a\\xe7\\xa1\\x9d\\xe9\\x85\\xb8\\xe7\\x9b\\x90\\xe6\\x80\\xbb\\xe7\\xa1\\xac\\xe5\\xba\\xa6\\xe7\\xa2\\xb1\\xe5\\xba\\xa6PH\\xe5\\x80\\xbc'\n",
            " b'\\xe6\\xb3\\x95\\xe5\\xbc\\x8f\\xe9\\x92\\x9f\\xe7\\x88\\xb1\\xe7\\xb3\\xbb\\xe5\\x88\\x97\\xe6\\xb1\\xa4\\xe9\\x94\\x85/\\xe7\\x82\\x96\\xe9\\x94\\x8524cm'\n",
            " b'\\xe3\\x80\\x90\\xe5\\xa3\\xb9+\\xe3\\x80\\x91\\xe6\\xb4\\x97\\xe8\\xa1\\xa3\\xe6\\x9c\\xba\\xe8\\xbf\\x87\\xe6\\xbb\\xa4\\xe7\\xbd\\x91 \\xe6\\xb4\\x97\\xe8\\xa1\\xa3\\xe6\\x9c\\xba\\xe8\\xbf\\x87\\xe6\\xbb\\xa4\\xe7\\x90\\x83 \\xe6\\xb4\\x97\\xe8\\xa1\\xa3\\xe6\\x9c\\xba\\xe8\\xbf\\x87\\xe6\\xbb\\xa4\\xe8\\xa2\\x8b'\n",
            " b'\\xe3\\x80\\x90\\xe7\\x81\\xab\\xe6\\x8a\\x98\\xe5\\xad\\x90\\xe3\\x80\\x91\\xe5\\x85\\x85\\xe7\\x94\\xb5\\xe7\\x82\\xb9\\xe7\\x83\\x9f\\xe5\\x99\\xa8\\xe7\\x81\\xab\\xe6\\x8a\\x98\\xe5\\xad\\x90'\n",
            " b'\\xe3\\x80\\x90\\xe6\\x96\\x87\\xe9\\x9f\\xb5\\xe4\\xb8\\x93\\xe4\\xba\\xab\\xe3\\x80\\x91\\xe9\\x9f\\xa9\\xe5\\xbc\\x8f\\xe5\\xb9\\xb2\\xe7\\x83\\xa7\\xe7\\x85\\xb2md'\n",
            " b'\\xe5\\xbe\\xb7\\xe5\\x9b\\xbd\\xe6\\x88\\xb4\\xe5\\xa7\\x86\\xe5\\x8b\\x925D\\xe9\\x95\\xad\\xe5\\xb0\\x84316L\\xe4\\xb8\\x8d\\xe9\\x94\\x88\\xe9\\x92\\xa2\\xe7\\x82\\x92\\xe9\\x94\\x85'], shape=(32,), dtype=string)\n",
            "Review: b'\\xe7\\xb2\\x98\\xe6\\xaf\\x9b\\xe5\\x99\\xa8\\xe7\\xbb\\x84\\xe5\\x90\\x88\\xe3\\x80\\x902\\xe4\\xb8\\xaa\\xe6\\x8a\\x8a\\xe6\\x89\\x8b+5\\xe4\\xb8\\xaa\\xe7\\xb2\\x98\\xe6\\xaf\\x9b\\xe5\\x8d\\xb7\\xe3\\x80\\x91'\n",
            "Label : 4 (SNQJ)\n",
            "Review: b'\\xe3\\x80\\x90\\xe6\\xad\\xa3\\xe5\\xae\\x97\\xe7\\xba\\xa2\\xe9\\x93\\x81\\xe6\\x9c\\xa8\\xe3\\x80\\x9128\\xc3\\x974cm-\\xe6\\x8e\\xa8\\xe8\\x8d\\x90\\xe9\\xbb\\x84\\xe9\\x87\\x91\\xe5\\x8d\\x95\\xe8\\xba\\xab\\xe5\\xae\\xb6\\xe5\\xba\\xad\\xe4\\xbd\\xbf\\xe7\\x94\\xa8'\n",
            "Label : 2 (CYJ)\n",
            "Review: b'Q\\xe8\\xa2\\x8b\\xe8\\x8c\\xb6\\xe5\\x8f\\xb6\\xe7\\xbd\\x90'\n",
            "Label : 4 (SNQJ)\n"
          ],
          "name": "stdout"
        }
      ]
    },
    {
      "cell_type": "code",
      "metadata": {
        "id": "354Peb5VogoI"
      },
      "source": [
        ""
      ],
      "execution_count": null,
      "outputs": []
    }
  ]
}